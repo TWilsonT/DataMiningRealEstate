{
 "cells": [
  {
   "cell_type": "code",
   "execution_count": 119,
   "metadata": {
    "collapsed": true
   },
   "outputs": [],
   "source": [
    "%matplotlib inline\n",
    "import csv\n",
    "import ast\n",
    "\n",
    "import numpy as np\n",
    "import matplotlib.pyplot as plt\n",
    "\n",
    "from sklearn.tree import DecisionTreeRegressor\n"
   ]
  },
  {
   "cell_type": "code",
   "execution_count": 120,
   "metadata": {
    "scrolled": true
   },
   "outputs": [
    {
     "name": "stdout",
     "output_type": "stream",
     "text": [
      "[['Order' 'PID' 'MS SubClass' 'MS Zoning' 'Lot Frontage' 'Lot Area'\n",
      "  'Street' 'Alley' 'Lot Shape' 'Land Contour' 'Utilities' 'Lot Config'\n",
      "  'Land Slope' 'Neighborhood' 'Condition 1' 'Condition 2' 'Bldg Type'\n",
      "  'House Style' 'Overall Qual' 'Overall Cond' 'Year Built' 'Year Remod/Add'\n",
      "  'Roof Style' 'Roof Matl' 'Exterior 1st' 'Exterior 2nd' 'Mas Vnr Type'\n",
      "  'Mas Vnr Area' 'Exter Qual' 'Exter Cond' 'Foundation' 'Bsmt Qual'\n",
      "  'Bsmt Cond' 'Bsmt Exposure' 'BsmtFin Type 1' 'BsmtFin SF 1'\n",
      "  'BsmtFin Type 2' 'BsmtFin SF 2' 'Bsmt Unf SF' 'Total Bsmt SF' 'Heating'\n",
      "  'Heating QC' 'Central Air' 'Electrical' '1st Flr SF' '2nd Flr SF'\n",
      "  'Low Qual Fin SF' 'Gr Liv Area' 'Bsmt Full Bath' 'Bsmt Half Bath'\n",
      "  'Full Bath' 'Half Bath' 'Bedroom AbvGr' 'Kitchen AbvGr' 'Kitchen Qual'\n",
      "  'TotRms AbvGrd' 'Functional' 'Fireplaces' 'Fireplace Qu' 'Garage Type'\n",
      "  'Garage Yr Blt' 'Garage Finish' 'Garage Cars' 'Garage Area' 'Garage Qual'\n",
      "  'Garage Cond' 'Paved Drive' 'Wood Deck SF' 'Open Porch SF'\n",
      "  'Enclosed Porch' '3Ssn Porch' 'Screen Porch' 'Pool Area' 'Pool QC'\n",
      "  'Fence' 'Misc Feature' 'Misc Val' 'Mo Sold' 'Yr Sold' 'Sale Type'\n",
      "  'Sale Condition' 'SalePrice']\n",
      " ['1' '0526301100' '020' 'RL' '141' '31770' 'Pave' 'NA' 'IR1' 'Lvl'\n",
      "  'AllPub' 'Corner' 'Gtl' 'NAmes' 'Norm' 'Norm' '1Fam' '1Story' '6' '5'\n",
      "  '1960' '1960' 'Hip' 'CompShg' 'BrkFace' 'Plywood' 'Stone' '112' 'TA' 'TA'\n",
      "  'CBlock' 'TA' 'Gd' 'Gd' 'BLQ' '639' 'Unf' '0' '441' '1080' 'GasA' 'Fa'\n",
      "  'Y' 'SBrkr' '1656' '0' '0' '1656' '1' '0' '1' '0' '3' '1' 'TA' '7' 'Typ'\n",
      "  '2' 'Gd' 'Attchd' '1960' 'Fin' '2' '528' 'TA' 'TA' 'P' '210' '62' '0' '0'\n",
      "  '0' '0' 'NA' 'NA' 'NA' '0' '5' '2010' 'WD ' 'Normal' '215000']]\n",
      "[<class 'int'>, <class 'str'>, <class 'str'>, <class 'str'>, <class 'int'>, <class 'int'>, <class 'str'>, <class 'str'>, <class 'str'>, <class 'str'>, <class 'str'>, <class 'str'>, <class 'str'>, <class 'str'>, <class 'str'>, <class 'str'>, <class 'str'>, <class 'str'>, <class 'int'>, <class 'int'>, <class 'int'>, <class 'int'>, <class 'str'>, <class 'str'>, <class 'str'>, <class 'str'>, <class 'str'>, <class 'int'>, <class 'str'>, <class 'str'>, <class 'str'>, <class 'str'>, <class 'str'>, <class 'str'>, <class 'str'>, <class 'int'>, <class 'str'>, <class 'int'>, <class 'int'>, <class 'int'>, <class 'str'>, <class 'str'>, <class 'str'>, <class 'str'>, <class 'int'>, <class 'int'>, <class 'int'>, <class 'int'>, <class 'int'>, <class 'int'>, <class 'int'>, <class 'int'>, <class 'int'>, <class 'int'>, <class 'str'>, <class 'int'>, <class 'str'>, <class 'int'>, <class 'str'>, <class 'str'>, <class 'int'>, <class 'str'>, <class 'int'>, <class 'int'>, <class 'str'>, <class 'str'>, <class 'str'>, <class 'int'>, <class 'int'>, <class 'int'>, <class 'int'>, <class 'int'>, <class 'int'>, <class 'str'>, <class 'str'>, <class 'str'>, <class 'int'>, <class 'int'>, <class 'int'>, <class 'str'>, <class 'str'>, <class 'int'>]\n"
     ]
    }
   ],
   "source": [
    "with open(\"AmesHousing.csv\") as f:\n",
    "    raw_data = np.array(list(csv.reader(f,delimiter=\",\")))\n",
    "    raw_data[0,0] = 'Order'\n",
    "    print(raw_data[:2,]) # = 'Order'\n",
    "  \n",
    "    att_type = []\n",
    "    for i in range(0,len(raw_data[1,:])):\n",
    "        #print(type(raw_data[1][i]))\n",
    "        try:\n",
    "            att_type.append(type(ast.literal_eval(raw_data[1,i])))\n",
    "            \n",
    "        except ValueError:\n",
    "            #print(\"Valerror: %s\" %raw_data[1][i])\n",
    "            att_type.append(type('s'))\n",
    "        except SyntaxError:\n",
    "           # print(\"Synerror: %s\" %raw_data[1][i])\n",
    "            att_type.append(type('s'))\n",
    "    \n",
    "    print(att_type)\n",
    "            "
   ]
  },
  {
   "cell_type": "code",
   "execution_count": 141,
   "metadata": {},
   "outputs": [
    {
     "name": "stdout",
     "output_type": "stream",
     "text": [
      "[[  1.00000000e+00   2.00000000e+00   3.00000000e+00 ...,   2.92800000e+03\n",
      "    2.92900000e+03   2.93000000e+03]\n",
      " [  1.41000000e+02   8.00000000e+01   8.10000000e+01 ...,   6.20000000e+01\n",
      "    7.70000000e+01   7.40000000e+01]\n",
      " [  3.17700000e+04   1.16220000e+04   1.42670000e+04 ...,   1.04410000e+04\n",
      "    1.00100000e+04   9.62700000e+03]\n",
      " ..., \n",
      " [  5.00000000e+00   6.00000000e+00   6.00000000e+00 ...,   7.00000000e+00\n",
      "    4.00000000e+00   1.10000000e+01]\n",
      " [  2.01000000e+03   2.01000000e+03   2.01000000e+03 ...,   2.00600000e+03\n",
      "    2.00600000e+03   2.00600000e+03]\n",
      " [  2.15000000e+05   1.05000000e+05   1.72000000e+05 ...,   1.32000000e+05\n",
      "    1.70000000e+05   1.88000000e+05]]\n"
     ]
    },
    {
     "data": {
      "text/plain": [
       "(37, 2930)"
      ]
     },
     "execution_count": 141,
     "metadata": {},
     "output_type": "execute_result"
    }
   ],
   "source": [
    "num_data = []\n",
    "num_data_cols = []\n",
    "num_data_headings = []\n",
    "for i in range(0,len(raw_data[:,1])):\n",
    "    num_data.append([])\n",
    "    for j in range(0,len(raw_data[1,:])):\n",
    "        if att_type[j] == type(1):\n",
    "            #print(raw_data[i,j])\n",
    "            if i == 0:\n",
    "                num_data_headings.append(raw_data[i,j])\n",
    "            else:\n",
    "                try:\n",
    "                    num_data[i].append(int(raw_data[i,j]))\n",
    "                except TypeError:\n",
    "                   # print(\"TypeErro: %s, %s\" %(raw_data[i,j],type(raw_data[i,j])))\n",
    "                    num_data[i].append(-1)\n",
    "                except ValueError:\n",
    "                    #print(\"TypeErro: %s,  %s\" %(raw_data[i,j],type(raw_data[i,j])))\n",
    "                    num_data[i].append(-1)\n",
    "\n",
    "\n",
    "num_data_headings = np.array(num_data_headings)\n",
    "num_data = np.array(num_data[1:][:]).astype(float)\n",
    "num_data_cols = num_data.transpose()\n",
    "#print(num_data_headings)\n",
    "print(num_data_cols)\n",
    "#print(num_data)\n",
    "#np.shape(num_data)\n",
    "np.shape(num_data_cols)"
   ]
  },
  {
   "cell_type": "code",
   "execution_count": 142,
   "metadata": {},
   "outputs": [
    {
     "name": "stdout",
     "output_type": "stream",
     "text": [
      "[[ 1.          0.00885731  0.03135406 ...,  0.13336528 -0.9759929\n",
      "  -0.03140793]\n",
      " [ 0.00885731  1.          0.13432098 ...,  0.01736448 -0.01174177\n",
      "   0.19993458]\n",
      " [ 0.03135406  0.13432098  1.         ...,  0.00385859 -0.02308509\n",
      "   0.26654922]\n",
      " ..., \n",
      " [ 0.13336528  0.01736448  0.00385859 ...,  1.         -0.15555424\n",
      "   0.03525884]\n",
      " [-0.9759929  -0.01174177 -0.02308509 ..., -0.15555424  1.         -0.03056909]\n",
      " [-0.03140793  0.19993458  0.26654922 ...,  0.03525884 -0.03056909  1.        ]]\n"
     ]
    }
   ],
   "source": [
    "corrmat = np.corrcoef(num_data_cols)\n",
    "print(corrmat)"
   ]
  },
  {
   "cell_type": "markdown",
   "metadata": {},
   "source": [
    "The plot below is just the correlation between the attributes that have numerical values.\n",
    "So far it looks like the attrubutes that correlate to sale price the most strongly are Overall Quality, Year Built, Year Remod/Add, Mas Vnr Area, Total Basement SF, 1st Floor SF, Gr Living Area, Garage Cars and Garage Area. Since basement SF and 1st floor SF are closely correlated, as well as Garage Cars and Garage Area, we can probably just one of those two pairs."
   ]
  },
  {
   "cell_type": "code",
   "execution_count": 176,
   "metadata": {},
   "outputs": [
    {
     "name": "stdout",
     "output_type": "stream",
     "text": [
      "0: Order\n",
      "1: Lot Frontage\n",
      "2: Lot Area\n",
      "3: Overall Qual\n",
      "4: Overall Cond\n",
      "5: Year Built\n",
      "6: Year Remod/Add\n",
      "7: Mas Vnr Area\n",
      "8: BsmtFin SF 1\n",
      "9: BsmtFin SF 2\n",
      "10: Bsmt Unf SF\n",
      "11: Total Bsmt SF\n",
      "12: 1st Flr SF\n",
      "13: 2nd Flr SF\n",
      "14: Low Qual Fin SF\n",
      "15: Gr Liv Area\n",
      "16: Bsmt Full Bath\n",
      "17: Bsmt Half Bath\n",
      "18: Full Bath\n",
      "19: Half Bath\n",
      "20: Bedroom AbvGr\n",
      "21: Kitchen AbvGr\n",
      "22: TotRms AbvGrd\n",
      "23: Fireplaces\n",
      "24: Garage Yr Blt\n",
      "25: Garage Cars\n",
      "26: Garage Area\n",
      "27: Wood Deck SF\n",
      "28: Open Porch SF\n",
      "29: Enclosed Porch\n",
      "30: 3Ssn Porch\n",
      "31: Screen Porch\n",
      "32: Pool Area\n",
      "33: Misc Val\n",
      "34: Mo Sold\n",
      "35: Yr Sold\n",
      "36: SalePrice\n"
     ]
    },
    {
     "data": {
      "text/plain": [
       "(37,)"
      ]
     },
     "execution_count": 176,
     "metadata": {},
     "output_type": "execute_result"
    },
    {
     "data": {
      "image/png": "[encoded data removed]",
      "text/plain": [
       "<matplotlib.figure.Figure at 0x7f2b7da08b70>"
      ]
     },
     "metadata": {},
     "output_type": "display_data"
    }
   ],
   "source": [
    "np.shape(corrmat)\n",
    "\n",
    "#plt.matshow(corrmat)\n",
    "plt.figure(figsize=(10,10))\n",
    "plt.imshow(corrmat, cmap=\"Blues\")\n",
    "#plt.matshow(corrmat)\n",
    "#plt.show()\n",
    "for i in range(0,len(num_data_headings)):\n",
    "    print(\"%d: %s\" %(i, num_data_headings[i]))\n",
    "#print(np.array(num_data_headings[:]).transpose())\n",
    "np.shape(num_data_headings)"
   ]
  },
  {
   "cell_type": "code",
   "execution_count": null,
   "metadata": {
    "collapsed": true
   },
   "outputs": [],
   "source": []
  }
 ],
 "metadata": {
  "celltoolbar": "Raw Cell Format",
  "kernelspec": {
   "display_name": "Python 3",
   "language": "python",
   "name": "python3"
  },
  "language_info": {
   "codemirror_mode": {
    "name": "ipython",
    "version": 3
   },
   "file_extension": ".py",
   "mimetype": "text/x-python",
   "name": "python",
   "nbconvert_exporter": "python",
   "pygments_lexer": "ipython3",
   "version": "3.6.1"
  }
 },
 "nbformat": 4,
 "nbformat_minor": 2
}
