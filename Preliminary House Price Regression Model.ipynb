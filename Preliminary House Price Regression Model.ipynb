{
 "cells": [
  {
   "cell_type": "code",
   "execution_count": 2,
   "metadata": {
    "collapsed": true
   },
   "outputs": [],
   "source": [
    "%matplotlib inline\n",
    "import csv\n",
    "import ast\n",
    "import numpy as np\n",
    "import matplotlib.pyplot as plt\n",
    "\n",
    "from sklearn.model_selection import train_test_split, cross_val_score\n",
    "from sklearn.tree import DecisionTreeRegressor"
   ]
  },
  {
   "cell_type": "code",
   "execution_count": 38,
   "metadata": {},
   "outputs": [
    {
     "name": "stdout",
     "output_type": "stream",
     "text": [
      "143\n",
      "X shape: (2930, 79) Y shape: (2930,)\n"
     ]
    }
   ],
   "source": [
    "categories = ['', '1.5Fin', '1.5Unf', '1Fam', '1Story', '2.5Fin', '2.5Unf', '2Story', '2Types', '2fmCon', 'A (agr)', 'ALQ', 'Abnorml', 'AdjLand', 'AllPub', 'Alloca', 'Artery', 'AsbShng', 'AsphShn', 'Attchd', 'Av', 'BLQ', 'Basment', 'Blmngtn', 'Blueste', 'Bnk', 'BrDale', 'Brk Cmn', 'BrkCmn', 'BrkComm', 'BrkFace', 'BrkSide', 'BrkTil', 'BuiltIn', 'C (all)', 'CBlock', 'COD', 'CWD', 'CarPort', 'CemntBd', 'ClearCr', 'ClyTile', 'CmentBd', 'CollgCr', 'CompShg', 'Con', 'ConLD', 'ConLI', 'ConLw', 'Corner', 'Crawfor', 'CulDSac', 'Detchd', 'Duplex', 'Edwards', 'Elev', 'Ex', 'FR2', 'FR3', 'FV', 'Fa', 'Family', 'Feedr', 'Fin', 'Flat', 'Floor', 'FuseA', 'FuseF', 'FuseP', 'GLQ', 'Gable', 'Gambrel', 'Gar2', 'GasA', 'GasW', 'Gd', 'GdPrv', 'GdWo', 'Gilbert', 'Grav', 'Greens', 'GrnHill', 'Grvl', 'Gtl', 'HLS', 'HdBoard', 'Hip', 'I (all)', 'IDOTRR', 'IR1', 'IR2', 'IR3', 'ImStucc', 'Inside', 'Landmrk', 'Low', 'Lvl', 'LwQ', 'Maj1', 'Maj2', 'Mansard', 'MeadowV', 'Membran', 'Metal', 'MetalSd', 'Min1', 'Min2', 'Mitchel', 'Mix', 'Mn', 'MnPrv', 'MnWw', 'Mod', 'N', 'NA', 'NAmes', 'NPkVill', 'NWAmes', 'New', 'No', 'NoRidge', 'NoSeWa', 'NoSewr', 'None', 'Norm', 'Normal', 'NridgHt', 'OldTown', 'Oth', 'OthW', 'Other', 'Othr', 'P', 'PConc', 'Partial', 'Pave', 'Plywood', 'Po', 'PosA', 'PosN', 'PreCast', 'RFn', 'RH', 'RL', 'RM', 'RRAe', 'RRAn', 'RRNe', 'RRNn', 'Rec', 'Reg', 'Roll', 'SBrkr', 'SFoyer', 'SLvl', 'SWISU', 'Sal', 'Sawyer', 'SawyerW', 'Sev', 'Shed', 'Slab', 'Somerst', 'Stone', 'StoneBr', 'Stucco', 'TA', 'Tar&Grv', 'TenC', 'Timber', 'Twnhs', 'TwnhsE', 'Typ', 'Unf', 'VWD', 'Veenker', 'VinylSd', 'WD ', 'Wall', 'Wd Sdng', 'Wd Shng', 'WdShake', 'WdShing', 'WdShngl', 'Wood', 'Y']\n",
    "\n",
    "print(categories.index('RL'))\n",
    "\n",
    "with open(\"AmesHousingCopy.csv\") as f:\n",
    "    reader = csv.reader(f,delimiter=\",\")\n",
    "    \n",
    "    X = []\n",
    "    y = []\n",
    "\n",
    "    \n",
    "    for i, row in enumerate(reader):\n",
    "        if i==0:\n",
    "            continue\n",
    "        y.append(float(row[-1]))\n",
    "        X.append([])\n",
    "        for item in row[:-1]:\n",
    "            try:\n",
    "                if isinstance(ast.literal_eval(item), int):\n",
    "                    X[i-1].append(int(item))\n",
    "                else:\n",
    "                    X[i-1].append(categories.index(item))\n",
    "            except ValueError:\n",
    "                X[i-1].append(categories.index(item))\n",
    "            except SyntaxError:\n",
    "                X[i-1].append(categories.index(item))\n",
    "            \n",
    "print(\"X shape:\", np.shape(np.array(X)), \"Y shape:\", np.shape(np.array(y)))\n",
    "\n",
    "\n",
    "       "
   ]
  },
  {
   "cell_type": "code",
   "execution_count": 37,
   "metadata": {},
   "outputs": [
    {
     "name": "stdout",
     "output_type": "stream",
     "text": [
      "[20, 142, 80, 11622, 135, 114, 150, 96, 14, 93, 83, 115, 62, 124, 3, 4, 5, 6, 1961, 1961, 70, 44, 176, 176, 123, 0, 166, 166, 35, 166, 166, 119, 149, 468, 97, 144, 270, 882, 73, 166, 185, 152, 896, 0, 0, 896, 0, 0, 1, 0, 2, 1, 166, 5, 172, 0, 114, 19, 1961, 173, 1, 730, 166, 166, 185, 140, 0, 0, 0, 120, 0, 114, 110, 114, 0, 6, 2010, 177, 125]\n"
     ]
    }
   ],
   "source": [
    "print(X[1])"
   ]
  },
  {
   "cell_type": "code",
   "execution_count": 39,
   "metadata": {},
   "outputs": [
    {
     "name": "stdout",
     "output_type": "stream",
     "text": [
      "[215000.0, 105000.0, 172000.0, 244000.0, 189900.0, 195500.0, 213500.0, 191500.0, 236500.0, 189000.0]\n"
     ]
    }
   ],
   "source": [
    "print(y[:10])"
   ]
  },
  {
   "cell_type": "code",
   "execution_count": 54,
   "metadata": {},
   "outputs": [
    {
     "name": "stdout",
     "output_type": "stream",
     "text": [
      "Score:  0.774484529819\n",
      "\n",
      "Sample predictions:  [ 215000.  105000.  172000.  375000.  228950.  195500.]\n",
      "\n",
      "10 - fold eval scores: \n",
      " [ 0.75388629  0.74083532  0.61982383  0.79924198  0.80546667  0.54198533\n",
      "  0.54692203  0.61301419  0.71894659  0.7469652 ] \n",
      "\n",
      " Average validation score:  0.688708742552\n"
     ]
    }
   ],
   "source": [
    "X_train, X_test, y_train, y_test = train_test_split(X, y, test_size=.2)\n",
    "regressor = DecisionTreeRegressor()\n",
    "regressor.fit(X_train, y_train)\n",
    "\n",
    "print(\"Score: \", regressor.score(X_test, y_test))\n",
    "print()\n",
    "print(\"Sample predictions: \", regressor.predict(X[:6]))\n",
    "print()\n",
    "evals = cross_val_score(regressor, X_test, y_test, cv=10)\n",
    "print(len(evals), \"- fold eval scores: \\n\", evals, \"\\n\\n\", \"Average validation score: \",(sum(evals)/len(evals)))"
   ]
  },
  {
   "cell_type": "markdown",
   "metadata": {},
   "source": [
    "After doing very simple cleaning of the data, and not accounting for any missing data, the DecisionTreeRegression shows a score of approximately 65% accuracy when evaluating using 10-fold cross validation, and a 80-20 train-test split.\n",
    "\n",
    "I think this can be improved by removing attributes that are missing a large percentage of data and maybe any attributes that aren't very useful."
   ]
  },
  {
   "cell_type": "code",
   "execution_count": null,
   "metadata": {
    "collapsed": true
   },
   "outputs": [],
   "source": []
  }
 ],
 "metadata": {
  "kernelspec": {
   "display_name": "Python 3",
   "language": "python",
   "name": "python3"
  },
  "language_info": {
   "codemirror_mode": {
    "name": "ipython",
    "version": 3
   },
   "file_extension": ".py",
   "mimetype": "text/x-python",
   "name": "python",
   "nbconvert_exporter": "python",
   "pygments_lexer": "ipython3",
   "version": "3.6.1"
  }
 },
 "nbformat": 4,
 "nbformat_minor": 2
}
