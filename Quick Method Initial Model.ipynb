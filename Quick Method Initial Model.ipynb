{
 "cells": [
  {
   "cell_type": "code",
   "execution_count": 11,
   "metadata": {},
   "outputs": [
    {
     "name": "stdout",
     "output_type": "stream",
     "text": [
      "['MS Zoning', 'Street', 'Land Contour', 'Neighborhood', 'Bldg Type', 'House Style', 'Foundation', 'Kitchen Qual']\n",
      "[[34, 77229.84615384616], [87, 80312.5], [10, 81500.0], [144, 126898.49676025918], [142, 134705.15384615384], [143, 191283.25164980203], [59, 218986.94964028776]]\n"
     ]
    }
   ],
   "source": [
    "%matplotlib inline\n",
    "import csv\n",
    "import ast\n",
    "import numpy as np\n",
    "import matplotlib.pyplot as plt\n",
    "\n",
    "from sklearn.model_selection import train_test_split, cross_val_score\n",
    "from sklearn.tree import DecisionTreeRegressor\n",
    "\n",
    "def getKey(item):\n",
    "    return item[1]\n",
    "\n",
    "cat_attributes = \"\"\"'MS Zoning' 'Street' 'Land Contour' 'Neighborhood' 'Bldg Type' 'House Style' 'Foundation' 'Kitchen Qual' \"\"\"\n",
    "\n",
    "cat_attributes = cat_attributes.split(\"' '\")\n",
    "cat_attributes[0] = 'MS Zoning'\n",
    "cat_attributes[-1] = 'Kitchen Qual'\n",
    "print(cat_attributes)\n",
    "test = [[[143, 191283.25164980203], [142, 134705.15384615384], [59, 218986.94964028776], [144, 126898.49676025918], [34, 77229.84615384616], [87, 80312.5], [10, 81500.0]], [[135, 181100.9239204935], [82, 106663.33333333333]], [[89, 210925.34831460673], [150, 162580.45185583647], [90, 229588.3552631579], [91, 221922.8125]]]\n",
    "test[0].sort(key=getKey)\n",
    "print(test[0])\n"
   ]
  },
  {
   "cell_type": "code",
   "execution_count": 12,
   "metadata": {},
   "outputs": [
    {
     "name": "stdout",
     "output_type": "stream",
     "text": [
      "143\n",
      "X shape: (2930, 14) Y shape: (2930,)\n",
      "[['MS Zoning', 'Street', 'Land Contour', 'Neighborhood', 'Bldg Type', 'House Style', 'Overall Qual', 'Year Built', 'Year Remod/Add', 'Foundation', '1st Flr SF', 'Gr Liv Area', 'Kitchen Qual', 'Garage Cars', 'SalePrice']]\n",
      "[142, 135, 96, 115, 3, 4, 5, 1961, 1961, 35, 896, 896, 166, 1]\n"
     ]
    }
   ],
   "source": [
    "categories = ['', '1.5Fin', '1.5Unf', '1Fam', '1Story', '2.5Fin', '2.5Unf', '2Story', '2Types', '2fmCon', 'A (agr)', 'ALQ', 'Abnorml', 'AdjLand', 'AllPub', 'Alloca', 'Artery', 'AsbShng', 'AsphShn', 'Attchd', 'Av', 'BLQ', 'Basment', 'Blmngtn', 'Blueste', 'Bnk', 'BrDale', 'Brk Cmn', 'BrkCmn', 'BrkComm', 'BrkFace', 'BrkSide', 'BrkTil', 'BuiltIn', 'C (all)', 'CBlock', 'COD', 'CWD', 'CarPort', 'CemntBd', 'ClearCr', 'ClyTile', 'CmentBd', 'CollgCr', 'CompShg', 'Con', 'ConLD', 'ConLI', 'ConLw', 'Corner', 'Crawfor', 'CulDSac', 'Detchd', 'Duplex', 'Edwards', 'Elev', 'Ex', 'FR2', 'FR3', 'FV', 'Fa', 'Family', 'Feedr', 'Fin', 'Flat', 'Floor', 'FuseA', 'FuseF', 'FuseP', 'GLQ', 'Gable', 'Gambrel', 'Gar2', 'GasA', 'GasW', 'Gd', 'GdPrv', 'GdWo', 'Gilbert', 'Grav', 'Greens', 'GrnHill', 'Grvl', 'Gtl', 'HLS', 'HdBoard', 'Hip', 'I (all)', 'IDOTRR', 'IR1', 'IR2', 'IR3', 'ImStucc', 'Inside', 'Landmrk', 'Low', 'Lvl', 'LwQ', 'Maj1', 'Maj2', 'Mansard', 'MeadowV', 'Membran', 'Metal', 'MetalSd', 'Min1', 'Min2', 'Mitchel', 'Mix', 'Mn', 'MnPrv', 'MnWw', 'Mod', 'N', 'NA', 'NAmes', 'NPkVill', 'NWAmes', 'New', 'No', 'NoRidge', 'NoSeWa', 'NoSewr', 'None', 'Norm', 'Normal', 'NridgHt', 'OldTown', 'Oth', 'OthW', 'Other', 'Othr', 'P', 'PConc', 'Partial', 'Pave', 'Plywood', 'Po', 'PosA', 'PosN', 'PreCast', 'RFn', 'RH', 'RL', 'RM', 'RRAe', 'RRAn', 'RRNe', 'RRNn', 'Rec', 'Reg', 'Roll', 'SBrkr', 'SFoyer', 'SLvl', 'SWISU', 'Sal', 'Sawyer', 'SawyerW', 'Sev', 'Shed', 'Slab', 'Somerst', 'Stone', 'StoneBr', 'Stucco', 'TA', 'Tar&Grv', 'TenC', 'Timber', 'Twnhs', 'TwnhsE', 'Typ', 'Unf', 'VWD', 'Veenker', 'VinylSd', 'WD ', 'Wall', 'Wd Sdng', 'Wd Shng', 'WdShake', 'WdShing', 'WdShngl', 'Wood', 'Y']\n",
    "\n",
    "print(categories.index('RL'))\n",
    "\n",
    "with open(\"AmesHousingCopyQuick.csv\") as f:\n",
    "    reader = csv.reader(f,delimiter=\",\")\n",
    "    \n",
    "    X = []\n",
    "    y = []\n",
    "    headings = []\n",
    "    \n",
    "    for i, row in enumerate(reader):\n",
    "        if i==0:\n",
    "            headings.append(row)\n",
    "            continue\n",
    "        y.append(float(row[-1])) #Append the Sale Price from each row to y\n",
    "        X.append([])\n",
    "        for item in row[:-1]:\n",
    "            try:\n",
    "                if isinstance(ast.literal_eval(item), int): #for each item, append it to the respective row\n",
    "                    X[i-1].append(int(item))                #if it is a numerical value, or append the corresponding\n",
    "                else:                                       #integer value if it is a categorical value\n",
    "                    X[i-1].append(categories.index(item))\n",
    "            except ValueError:                              #Exceptions deal with ast.literal_eval quirks\n",
    "                X[i-1].append(categories.index(item))\n",
    "            except SyntaxError:\n",
    "                X[i-1].append(categories.index(item))\n",
    "            \n",
    "print(\"X shape:\", np.shape(np.array(X)), \"Y shape:\", np.shape(np.array(y)))\n",
    "print(headings)\n",
    "print(X[1])\n",
    "\n",
    "     "
   ]
  },
  {
   "cell_type": "code",
   "execution_count": 13,
   "metadata": {},
   "outputs": [
    {
     "name": "stdout",
     "output_type": "stream",
     "text": [
      "(8, 2930, 2)\n",
      "(8,)\n"
     ]
    }
   ],
   "source": [
    "att_pairs = []\n",
    "for i,column in enumerate(cat_attributes):\n",
    "    att_pairs.append([])\n",
    "    index = headings[0].index(column)\n",
    "    for j,row in enumerate(X):\n",
    "        temp = [row[index]]\n",
    "        temp.append(y[j])\n",
    "        att_pairs[i].append(temp)\n",
    "        \n",
    "print(np.shape(np.array(att_pairs)))\n",
    "\n",
    "#print(np.array(att_pairs))\n",
    "    #get the index of the column in headings\n",
    "    #go through X and create a list of list containing pairs of category integer and sale price\n",
    "#Sample from data\n",
    "#print(X[1])\n",
    "#create a list containing the category from each attribute, along with the average price\n",
    "att_avgs = []\n",
    "for k,column in enumerate(att_pairs):\n",
    "    att_avgs.append([])\n",
    "    for m,row in enumerate(column):\n",
    "       \n",
    "        if m == 0:\n",
    "            att_avgs[k].append(row + [1])\n",
    "            continue\n",
    "        test = False\n",
    "        for l,entry in enumerate(att_avgs[k]):\n",
    "            if row[0] in entry:\n",
    "                test = True\n",
    "                index = l\n",
    "        if test == False:\n",
    "            temp = row\n",
    "            temp.append(1)\n",
    "            att_avgs[k].append(temp)\n",
    "        else:\n",
    "            att_avgs[k][index][1] += row[1]\n",
    "            att_avgs[k][index][2] += 1\n",
    "        \n",
    "\n",
    "print(np.shape(np.array(att_avgs)))       "
   ]
  },
  {
   "cell_type": "code",
   "execution_count": 14,
   "metadata": {},
   "outputs": [
    {
     "name": "stdout",
     "output_type": "stream",
     "text": [
      "[ [[143, 191283.25164980203, 2273], [142, 134705.15384615384, 26], [59, 218986.94964028776, 139], [144, 126898.49676025918, 463], [34, 77229.84615384616, 26], [87, 80312.5, 2], [10, 81500.0, 1]]\n",
      " [[135, 181100.9239204935, 2918], [82, 106663.33333333333, 12]]\n",
      " [[96, 178752.3791793313, 2632], [84, 253924.525, 120], [25, 144849.88983050847, 118], [95, 194882.73333333334, 60]]]\n"
     ]
    }
   ],
   "source": [
    "#print(np.array(att_avgs[:5]))\n",
    "cat_total = []\n",
    "for b, column in enumerate(att_avgs):\n",
    "    cat_total.append([])\n",
    "    for row in column:\n",
    "        cat_total[b].append([row[0]] + [row[1] / row[2]] + [row[2]])\n",
    "        \n",
    "print(np.array(cat_total[:3]))\n"
   ]
  },
  {
   "cell_type": "code",
   "execution_count": 16,
   "metadata": {
    "scrolled": false
   },
   "outputs": [
    {
     "name": "stdout",
     "output_type": "stream",
     "text": [
      "Kitchen Qual\n",
      "['Fa', 'Po', 'TA', 'Gd', 'Ex']\n",
      "[106922, 107500, 139549, 210835, 338120]\n",
      "[71, 1, 1494, 1160, 204]\n"
     ]
    },
    {
     "data": {
      "image/png": "[encoded data removed]",
      "text/plain": [
       "<matplotlib.figure.Figure at 0x7f393d967208>"
      ]
     },
     "metadata": {},
     "output_type": "display_data"
    }
   ],
   "source": [
    "names = []\n",
    "data = []\n",
    "counts = []\n",
    "\n",
    "#print(cat_total[0])\n",
    "plt.figure(figsize=(10,10))\n",
    "num = 7\n",
    "cat_total[num].sort(key=getKey)\n",
    "for row in cat_total[num]:\n",
    "    \n",
    "    names.append(categories[row[0]])\n",
    "    data.append(int(row[1]))\n",
    "    counts.append(row[2])\n",
    "        \n",
    "xval = range(len(data))\n",
    "print(cat_attributes[num])\n",
    "print(names)\n",
    "print(data)\n",
    "print(counts)\n",
    "plt.scatter(xval, data)\n",
    "plt.xticks(xval, names)\n",
    "plt.show()"
   ]
  },
  {
   "cell_type": "code",
   "execution_count": 99,
   "metadata": {
    "scrolled": false
   },
   "outputs": [
    {
     "name": "stdout",
     "output_type": "stream",
     "text": [
      "{'criterion': 'mse', 'max_depth': None, 'max_features': None, 'max_leaf_nodes': None, 'min_impurity_split': 1e-07, 'min_samples_leaf': 1, 'min_samples_split': 2, 'min_weight_fraction_leaf': 0.0, 'presort': False, 'random_state': None, 'splitter': 'best'}\n",
      "\n",
      "Score:  0.788404234895\n",
      "\n",
      "Sample predictions:  [ 215000.  120000.  172000.  244000.  189900.  195500.]\n",
      "\n",
      "30 - fold eval scores: \n",
      " \n",
      "\n",
      " Average validation score:  0.728111225621\n"
     ]
    }
   ],
   "source": [
    "X_train, X_test, y_train, y_test = train_test_split(X, y, test_size=.4)\n",
    "regressor = DecisionTreeRegressor()\n",
    "regressor.fit(X_train, y_train)\n",
    "\n",
    "print(regressor.get_params())\n",
    "print()\n",
    "print(\"Score: \", regressor.score(X_test, y_test))\n",
    "print()\n",
    "print(\"Sample predictions: \", regressor.predict(X[:6]))\n",
    "print()\n",
    "evals = cross_val_score(regressor, X_test, y_test, cv=30)\n",
    "print(len(evals), \"- fold eval scores: \\n\",  \"\\n\\n\", \"Average validation score: \",(sum(evals)/len(evals)))"
   ]
  },
  {
   "cell_type": "markdown",
   "metadata": {},
   "source": [
    "After doing very simple cleaning of the data, and not accounting for any missing data, the DecisionTreeRegression shows a score of approximately 65% accuracy (it changes each time I run it) when evaluating using 10-fold cross validation, and a 80-20 train-test split.\n",
    "\n",
    "I think this can be improved by removing attributes that are missing a large percentage of data and maybe any attributes that aren't very useful."
   ]
  },
  {
   "cell_type": "code",
   "execution_count": null,
   "metadata": {
    "collapsed": true
   },
   "outputs": [],
   "source": []
  }
 ],
 "metadata": {
  "kernelspec": {
   "display_name": "Python 3",
   "language": "python",
   "name": "python3"
  },
  "language_info": {
   "codemirror_mode": {
    "name": "ipython",
    "version": 3
   },
   "file_extension": ".py",
   "mimetype": "text/x-python",
   "name": "python",
   "nbconvert_exporter": "python",
   "pygments_lexer": "ipython3",
   "version": "3.6.1"
  }
 },
 "nbformat": 4,
 "nbformat_minor": 2
}
